{
 "cells": [
  {
   "cell_type": "code",
   "execution_count": 1,
   "id": "ec1bfc34-9dd7-4c40-b256-c912c5a5d964",
   "metadata": {},
   "outputs": [],
   "source": [
    "import pandas as pd\n",
    "import numpy as np"
   ]
  },
  {
   "cell_type": "code",
   "execution_count": 2,
   "id": "1c5f8704-fb39-4e73-8f30-173849f6111b",
   "metadata": {},
   "outputs": [],
   "source": [
    "\n",
    "github_url = 'https://github.com/DataTalksClub/llm-zoomcamp/blob/c445434454be50934cd75c661626ae05c3ec8126/04-monitoring/data/results-gpt4o-mini.csv'\n",
    "url = f'{github_url}?raw=1'\n",
    "df = pd.read_csv(url)"
   ]
  },
  {
   "cell_type": "code",
   "execution_count": 3,
   "id": "d9bc33fa-7c30-4b1a-9160-4b9e14420b01",
   "metadata": {},
   "outputs": [],
   "source": [
    "df = df.iloc[:300]"
   ]
  },
  {
   "cell_type": "code",
   "execution_count": 4,
   "id": "a0259a08-0946-41b9-aa6a-c4ce717332c3",
   "metadata": {},
   "outputs": [
    {
     "name": "stderr",
     "output_type": "stream",
     "text": [
      "/home/julie/miniconda3/envs/exp-tracking-env/lib/python3.11/site-packages/sentence_transformers/cross_encoder/CrossEncoder.py:11: TqdmExperimentalWarning: Using `tqdm.autonotebook.tqdm` in notebook mode. Use `tqdm.tqdm` instead to force console mode (e.g. in jupyter console)\n",
      "  from tqdm.autonotebook import tqdm, trange\n"
     ]
    }
   ],
   "source": [
    "model_name = 'multi-qa-mpnet-base-dot-v1'\n",
    "from sentence_transformers import SentenceTransformer\n",
    "model = SentenceTransformer(model_name)\n"
   ]
  },
  {
   "cell_type": "code",
   "execution_count": 5,
   "id": "bced8d73-37b3-4848-981b-a38e708e9c2a",
   "metadata": {},
   "outputs": [
    {
     "data": {
      "text/plain": [
       "answer_llm     You can sign up for the course by visiting the...\n",
       "answer_orig    Machine Learning Zoomcamp FAQ\\nThe purpose of ...\n",
       "document                                                0227b872\n",
       "question                     Where can I sign up for the course?\n",
       "course                                 machine-learning-zoomcamp\n",
       "Name: 0, dtype: object"
      ]
     },
     "execution_count": 5,
     "metadata": {},
     "output_type": "execute_result"
    }
   ],
   "source": [
    "df.iloc[0]"
   ]
  },
  {
   "cell_type": "code",
   "execution_count": 6,
   "id": "5ff592c4-5f4f-4116-ba01-b8f57a943c6d",
   "metadata": {},
   "outputs": [
    {
     "data": {
      "text/plain": [
       "(-0.42244676, 34.820374, 768)"
      ]
     },
     "execution_count": 6,
     "metadata": {},
     "output_type": "execute_result"
    }
   ],
   "source": [
    "answer_llm = df.iloc[0].answer_llm\n",
    "v = model.encode(answer_llm)\n",
    "v[0], v.dot(v), len(v)"
   ]
  },
  {
   "cell_type": "code",
   "execution_count": 7,
   "id": "ad7d4487-a5fa-467e-b01a-22ca85c30b30",
   "metadata": {},
   "outputs": [
    {
     "data": {
      "text/plain": [
       "pandas.core.indexing._iLocIndexer"
      ]
     },
     "execution_count": 7,
     "metadata": {},
     "output_type": "execute_result"
    }
   ],
   "source": [
    "type(df.iloc)"
   ]
  },
  {
   "cell_type": "code",
   "execution_count": 9,
   "id": "b6ad2387-43f4-4c35-b2ce-f7b6ae83c708",
   "metadata": {},
   "outputs": [
    {
     "data": {
      "text/plain": [
       "31.674306392669678"
      ]
     },
     "execution_count": 9,
     "metadata": {},
     "output_type": "execute_result"
    }
   ],
   "source": [
    "evaluations = []\n",
    "ans = {}\n",
    "    #print(doc)\n",
    "ans1 = df.answer_llm.to_list()\n",
    "ans2 = df.answer_orig.to_list()\n",
    "for a,b in zip(ans1, ans2):\n",
    "    a_llm = model.encode(a)\n",
    "    a_orig = model.encode(b) \n",
    "    evaluations.append(a_llm.dot(a_orig))\n",
    "np.percentile(evaluations, 75)"
   ]
  },
  {
   "cell_type": "code",
   "execution_count": 10,
   "id": "8b405923-200c-4a9a-b1e3-3cb677e56241",
   "metadata": {},
   "outputs": [
    {
     "data": {
      "text/plain": [
       "0.8362347036600113"
      ]
     },
     "execution_count": 10,
     "metadata": {},
     "output_type": "execute_result"
    }
   ],
   "source": [
    "evaluations1 = []\n",
    "for a,b in zip(ans1, ans2):\n",
    "    a_llm = model.encode(a)\n",
    "    a_llm = a_llm/np.sqrt(a_llm.dot(a_llm))\n",
    "    \n",
    "    a_orig = model.encode(b) \n",
    "    a_orig = a_orig/np.sqrt(a_orig.dot(a_orig))\n",
    "\n",
    "    evaluations1.append(a_llm.dot(a_orig))\n",
    "np.percentile(evaluations1, 75)"
   ]
  },
  {
   "cell_type": "code",
   "execution_count": 11,
   "id": "8c4d14ca-42c4-4c76-881c-7439970c63f3",
   "metadata": {},
   "outputs": [
    {
     "data": {
      "text/plain": [
       "answer_llm     Yes, all sessions are recorded, so if you miss...\n",
       "answer_orig    Everything is recorded, so you won’t miss anyt...\n",
       "document                                                5170565b\n",
       "question                    Are sessions recorded if I miss one?\n",
       "course                                 machine-learning-zoomcamp\n",
       "Name: 10, dtype: object"
      ]
     },
     "execution_count": 11,
     "metadata": {},
     "output_type": "execute_result"
    }
   ],
   "source": [
    "df.iloc[10]"
   ]
  },
  {
   "cell_type": "code",
   "execution_count": 12,
   "id": "92050f44-6fe4-494a-aec8-3a320e2c343d",
   "metadata": {},
   "outputs": [],
   "source": [
    "r = df.iloc[10]\n",
    "from rouge import Rouge\n",
    "rouge_scorer = Rouge()\n",
    "\n",
    "scores = rouge_scorer.get_scores(r['answer_llm'], r['answer_orig'])[0]"
   ]
  },
  {
   "cell_type": "code",
   "execution_count": 13,
   "id": "e36ca398-5709-44ce-911e-e57199328d59",
   "metadata": {
    "scrolled": true
   },
   "outputs": [
    {
     "data": {
      "text/plain": [
       "{'rouge-1': {'r': 0.45454545454545453,\n",
       "  'p': 0.45454545454545453,\n",
       "  'f': 0.45454544954545456},\n",
       " 'rouge-2': {'r': 0.21621621621621623,\n",
       "  'p': 0.21621621621621623,\n",
       "  'f': 0.21621621121621637},\n",
       " 'rouge-l': {'r': 0.3939393939393939,\n",
       "  'p': 0.3939393939393939,\n",
       "  'f': 0.393939388939394}}"
      ]
     },
     "execution_count": 13,
     "metadata": {},
     "output_type": "execute_result"
    }
   ],
   "source": [
    "scores"
   ]
  },
  {
   "cell_type": "code",
   "execution_count": 14,
   "id": "7e94b61f-c0fe-480b-b697-11c420cd8602",
   "metadata": {},
   "outputs": [
    {
     "data": {
      "text/plain": [
       "0.35490034990035496"
      ]
     },
     "execution_count": 14,
     "metadata": {},
     "output_type": "execute_result"
    }
   ],
   "source": [
    "(scores['rouge-1']['f'] + scores['rouge-2']['f'] + scores['rouge-l']['f'])/3 "
   ]
  },
  {
   "cell_type": "code",
   "execution_count": 16,
   "id": "f26cefe2-2c2d-43df-9597-63cf349391d9",
   "metadata": {},
   "outputs": [
    {
     "data": {
      "text/plain": [
       "0.20696501983423318"
      ]
     },
     "execution_count": 16,
     "metadata": {},
     "output_type": "execute_result"
    }
   ],
   "source": [
    "ddict = {}\n",
    "ddict['rouge_1'] = []\n",
    "ddict['rouge_2'] = []\n",
    "ddict['rouge_l'] = []\n",
    "ddict['rouge_avg'] = []\n",
    "\n",
    "for j in range(len(df.index)):\n",
    "    d = df.iloc[j]\n",
    "    scores = rouge_scorer.get_scores(d['answer_llm'], d['answer_orig'])[0]\n",
    "    ddict['rouge_1'].append(scores['rouge-1']['f'])\n",
    "    ddict['rouge_2'].append(scores['rouge-2']['f'])\n",
    "    ddict['rouge_l'].append(scores['rouge-l']['f'])\n",
    "    ddict['rouge_avg'].append((scores['rouge-1']['f'] + scores['rouge-2']['f'] + scores['rouge-l']['f'])/3 )\n",
    "    \n",
    "df1 = pd.DataFrame(data=ddict)\n",
    "#df1 = df1.replace(0, np.NaN)\n",
    "df1.mean()['rouge_2']\n"
   ]
  },
  {
   "cell_type": "code",
   "execution_count": null,
   "id": "7baa42fd-894f-4ffe-9baa-ed738c90712b",
   "metadata": {},
   "outputs": [],
   "source": []
  }
 ],
 "metadata": {
  "kernelspec": {
   "display_name": "Python 3 (ipykernel)",
   "language": "python",
   "name": "python3"
  },
  "language_info": {
   "codemirror_mode": {
    "name": "ipython",
    "version": 3
   },
   "file_extension": ".py",
   "mimetype": "text/x-python",
   "name": "python",
   "nbconvert_exporter": "python",
   "pygments_lexer": "ipython3",
   "version": "3.11.9"
  }
 },
 "nbformat": 4,
 "nbformat_minor": 5
}
